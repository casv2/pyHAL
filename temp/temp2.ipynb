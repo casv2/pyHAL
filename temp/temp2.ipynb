{
 "metadata": {
  "language_info": {
   "codemirror_mode": {
    "name": "ipython",
    "version": 3
   },
   "file_extension": ".py",
   "mimetype": "text/x-python",
   "name": "python",
   "nbconvert_exporter": "python",
   "pygments_lexer": "ipython3",
   "version": "3.8.2"
  },
  "orig_nbformat": 2,
  "kernelspec": {
   "name": "python382jvsc74a57bd060ebc27daa767ba5f15625fd4f76655d8a8b93c37b114125c4aa8518231ea995",
   "display_name": "Python 3.8.2 64-bit ('base': conda)"
  }
 },
 "nbformat": 4,
 "nbformat_minor": 2,
 "cells": [
  {
   "cell_type": "code",
   "execution_count": 1,
   "metadata": {},
   "outputs": [
    {
     "output_type": "stream",
     "name": "stderr",
     "text": [
      "/Users/Cas/miniconda3/lib/python3.8/site-packages/torchani-2.3.dev60+ga85e330-py3.8.egg/torchani/aev.py:16: UserWarning: cuaev not installed\n  warnings.warn(\"cuaev not installed\")\n"
     ]
    }
   ],
   "source": [
    "import torchani\n",
    "from ase.io import read, write\n",
    "import torch\n",
    "import sys\n",
    "import ase\n",
    "from ase.io import read, write\n",
    "import matplotlib.pyplot as plt\n",
    "from ase.units import fs\n",
    "from copy import deepcopy\n",
    "import torchani\n",
    "import numpy as np"
   ]
  },
  {
   "cell_type": "code",
   "execution_count": 2,
   "metadata": {},
   "outputs": [
    {
     "output_type": "stream",
     "name": "stdout",
     "text": [
      "/Users/Cas/miniconda3/lib/python3.8/site-packages/torchani-2.3.dev60+ga85e330-py3.8.egg/torchani/resources/\n"
     ]
    }
   ],
   "source": [
    "ani2x = torchani.models.ANI2x()\n",
    "al = read(\"/Users/Cas/Work/HMD/PEG3/peg_all.xyz\", \":\")\n",
    "atoms = al[1]"
   ]
  },
  {
   "cell_type": "code",
   "execution_count": 96,
   "metadata": {},
   "outputs": [],
   "source": [
    "def get_comm_energy_forces(ani2x, at):\n",
    "    Fs = []\n",
    "\n",
    "    for i in range(8):\n",
    "        calc = ani2x[i].ase()\n",
    "        at.set_calculator(calc)\n",
    "        Fs.append(at.get_forces())\n",
    "\n",
    "    model = torchani.models.ANI2x(periodic_table_index=True)\n",
    "    energy = model((species, coordinates)).energies\n",
    "\n",
    "    derivative = torch.autograd.grad(energy.sum(), coordinates)[0]\n",
    "    force = -derivative\n",
    "\n",
    "    _, atomic_energies = model.atomic_energies((species, coordinates), average=False)\n",
    "\n",
    "    Es = atomic_energies.detach().numpy() * ase.units.Hartree\n",
    "\n",
    "    #print(Es)\n",
    "    meanE = np.mean(Es, axis=0)\n",
    "    meanF = np.mean(Fs, axis=0)\n",
    "\n",
    "    varE = np.var(Es, axis=0)\n",
    "    varF = np.sum([2 * (Es[i] - meanE) * (Fs[i] - meanF).T for i in range(8)], axis=0)/8\n",
    "\n",
    "    return varE, varF.T"
   ]
  },
  {
   "cell_type": "code",
   "execution_count": 97,
   "metadata": {},
   "outputs": [
    {
     "output_type": "stream",
     "name": "stdout",
     "text": [
      "/Users/Cas/miniconda3/lib/python3.8/site-packages/torchani-2.3.dev60+ga85e330-py3.8.egg/torchani/resources/\n"
     ]
    }
   ],
   "source": [
    "varE, varF =get_comm_energy_forces(ani2x, al[1])"
   ]
  },
  {
   "cell_type": "code",
   "execution_count": 98,
   "metadata": {},
   "outputs": [
    {
     "output_type": "execute_result",
     "data": {
      "text/plain": [
       "array([[0.00730689, 0.0378946 , 0.03482063, 0.03023421, 0.03811524,\n",
       "        0.03304666, 0.02649571, 0.03903259, 0.03831865, 0.03331003,\n",
       "        0.03716946, 0.03967167, 0.00731955, 0.00379116, 0.00561245,\n",
       "        0.00588754, 0.00671736, 0.00471105, 0.00565585, 0.00586362,\n",
       "        0.00404982, 0.00586986, 0.00593299, 0.00611452, 0.00652284,\n",
       "        0.00611278, 0.0056662 , 0.00594008, 0.00619087, 0.00604187,\n",
       "        0.00254323]], dtype=float32)"
      ]
     },
     "metadata": {},
     "execution_count": 98
    }
   ],
   "source": [
    "varE"
   ]
  },
  {
   "cell_type": "code",
   "execution_count": 88,
   "metadata": {},
   "outputs": [],
   "source": [
    "def get_comm_energy_forces_old(ani2x, at):\n",
    "    Es = []\n",
    "    Fs = []\n",
    "\n",
    "    for i in range(8):\n",
    "        calc = ani2x[i].ase()\n",
    "        at.set_calculator(calc)\n",
    "        Es.append(at.get_potential_energy())\n",
    "        Fs.append(at.get_forces())\n",
    "\n",
    "    meanE = np.mean(Es)\n",
    "    meanF = np.mean(Fs, axis=0)\n",
    "\n",
    "    varE = np.sum([ (Es[i] - meanE)**2 for i in range(8)])/8\n",
    "    varF = np.sum([2 * (Es[i] - meanE) * (Fs[i] - meanF) for i in range(8)], axis=0)/8\n",
    "\n",
    "    return meanE, varE, meanF, varF"
   ]
  },
  {
   "cell_type": "code",
   "execution_count": 90,
   "metadata": {},
   "outputs": [],
   "source": [
    "Es, meanE, meanF, varF = get_comm_energy_forces_old(ani2x, al[1])"
   ]
  },
  {
   "cell_type": "code",
   "execution_count": 91,
   "metadata": {},
   "outputs": [
    {
     "output_type": "execute_result",
     "data": {
      "text/plain": [
       "array([[-4.80451854e-04,  7.00486067e-04,  4.69138526e-04],\n",
       "       [ 9.24542779e-04, -4.18823329e-04,  3.00642161e-04],\n",
       "       [-2.43357557e-04, -1.09727858e-04, -1.02221046e-03],\n",
       "       [ 6.05150126e-04,  1.28954800e-03, -1.33168604e-03],\n",
       "       [ 1.86563848e-04, -1.50926702e-03, -3.67926492e-04],\n",
       "       [-4.64132027e-04,  9.31467337e-04, -5.51920792e-04],\n",
       "       [-8.16976608e-05, -1.06151961e-03, -1.38978008e-03],\n",
       "       [ 1.33588415e-04, -1.14097726e-03,  4.90767998e-04],\n",
       "       [-7.46307836e-04, -2.04633619e-03,  1.89210405e-05],\n",
       "       [-4.22679354e-04,  6.14297343e-04,  1.07659504e-03],\n",
       "       [ 7.69879553e-04, -2.17020279e-04,  3.25856017e-05],\n",
       "       [ 3.52789531e-04, -3.69130459e-04,  1.20519726e-04],\n",
       "       [-1.17017119e-03,  7.64853496e-04, -1.80693707e-04],\n",
       "       [ 6.05734065e-04,  4.27329040e-04, -2.83531292e-04],\n",
       "       [ 1.73022228e-04, -1.71149411e-04,  1.88183094e-05],\n",
       "       [-7.03681377e-04,  1.85708574e-04,  2.40772832e-04],\n",
       "       [ 2.68522213e-04, -2.82690569e-04, -6.57554483e-05],\n",
       "       [-3.98148317e-04,  5.09712670e-04, -5.54441940e-04],\n",
       "       [ 2.13899650e-04, -3.97803407e-04,  3.13714938e-03],\n",
       "       [ 8.97509672e-05, -1.36264437e-03,  1.58481314e-04],\n",
       "       [-2.70002696e-04,  5.70518721e-04,  1.31067965e-04],\n",
       "       [-6.79525780e-04, -1.60557203e-04,  3.98904376e-07],\n",
       "       [-2.49444216e-04,  6.75463700e-04,  5.32369944e-04],\n",
       "       [-2.89432588e-04,  1.12408583e-04,  2.44152070e-05],\n",
       "       [ 1.17158552e-03,  2.60966859e-04, -2.53953476e-04],\n",
       "       [-1.29300723e-04, -1.73350432e-04,  1.77826732e-05],\n",
       "       [-3.93565046e-04, -5.98483894e-06,  6.09058479e-05],\n",
       "       [-3.24652938e-05,  8.72697972e-04, -1.80431438e-04],\n",
       "       [ 3.29603150e-04,  6.03803783e-04, -3.96705524e-04],\n",
       "       [ 2.93825811e-04,  7.49817918e-05, -4.24734098e-05],\n",
       "       [ 6.35903270e-04,  8.32743186e-04, -2.09822829e-04]], dtype=float32)"
      ]
     },
     "metadata": {},
     "execution_count": 91
    }
   ],
   "source": [
    "varF"
   ]
  },
  {
   "cell_type": "code",
   "execution_count": null,
   "metadata": {},
   "outputs": [],
   "source": []
  },
  {
   "cell_type": "code",
   "execution_count": null,
   "metadata": {},
   "outputs": [],
   "source": []
  },
  {
   "cell_type": "code",
   "execution_count": 5,
   "metadata": {},
   "outputs": [],
   "source": [
    "def get_comm_energy_forces(ani2x, at):\n",
    "    Es = []\n",
    "    Fs = []\n",
    "\n",
    "    species = torch.tensor([at.get_atomic_numbers()], dtype=torch.long)\n",
    "    coordinates = torch.tensor([at.get_positions()], requires_grad=True, dtype=torch.float32)\n",
    "\n",
    "    model = torchani.models.ANI2x(periodic_table_index=True)\n",
    "    energy = model((species, coordinates)).energies\n",
    "\n",
    "    derivative = torch.autograd.grad(energy.sum(), coordinates)[0]\n",
    "    force = -derivative\n",
    "\n",
    "    _, atomic_energies = model.atomic_energies((species, coordinates))\n",
    "\n",
    "    for i in range(8):\n",
    "        derivative = torch.autograd.grad(energy.sum(), coordinates)[0]\n",
    "        force = -derivative\n",
    "        Fs.append(at.get_forces())\n",
    "\n",
    "    print(Fs)\n",
    "\n",
    "    # meanE = np.mean(Es)\n",
    "    # meanF = np.mean(Fs, axis=0)\n",
    "\n",
    "    # varE = np.sum([ (Es[i] - meanE)**2 for i in range(8)])/8\n",
    "    # varF = np.sum([2 * (Es[i] - meanE) * (Fs[i] - meanF) for i in range(8)], axis=0)/8"
   ]
  },
  {
   "source": [
    "get_comm_energy_forces(ani2x, al[1])"
   ],
   "cell_type": "code",
   "metadata": {},
   "execution_count": 6,
   "outputs": [
    {
     "output_type": "stream",
     "name": "stdout",
     "text": [
      "/Users/Cas/miniconda3/lib/python3.8/site-packages/torchani-2.3.dev60+ga85e330-py3.8.egg/torchani/resources/\n"
     ]
    },
    {
     "output_type": "error",
     "ename": "RuntimeError",
     "evalue": "Trying to backward through the graph a second time, but the saved intermediate results have already been freed. Specify retain_graph=True when calling backward the first time.",
     "traceback": [
      "\u001b[0;31m---------------------------------------------------------------------------\u001b[0m",
      "\u001b[0;31mRuntimeError\u001b[0m                              Traceback (most recent call last)",
      "\u001b[0;32m<ipython-input-6-47f5b84c4d0b>\u001b[0m in \u001b[0;36m<module>\u001b[0;34m\u001b[0m\n\u001b[0;32m----> 1\u001b[0;31m \u001b[0mget_comm_energy_forces\u001b[0m\u001b[0;34m(\u001b[0m\u001b[0mani2x\u001b[0m\u001b[0;34m,\u001b[0m \u001b[0mal\u001b[0m\u001b[0;34m[\u001b[0m\u001b[0;36m1\u001b[0m\u001b[0;34m]\u001b[0m\u001b[0;34m)\u001b[0m\u001b[0;34m\u001b[0m\u001b[0;34m\u001b[0m\u001b[0m\n\u001b[0m",
      "\u001b[0;32m<ipython-input-5-41eee327a8bb>\u001b[0m in \u001b[0;36mget_comm_energy_forces\u001b[0;34m(ani2x, at)\u001b[0m\n\u001b[1;32m     15\u001b[0m \u001b[0;34m\u001b[0m\u001b[0m\n\u001b[1;32m     16\u001b[0m     \u001b[0;32mfor\u001b[0m \u001b[0mi\u001b[0m \u001b[0;32min\u001b[0m \u001b[0mrange\u001b[0m\u001b[0;34m(\u001b[0m\u001b[0;36m8\u001b[0m\u001b[0;34m)\u001b[0m\u001b[0;34m:\u001b[0m\u001b[0;34m\u001b[0m\u001b[0;34m\u001b[0m\u001b[0m\n\u001b[0;32m---> 17\u001b[0;31m         \u001b[0mderivative\u001b[0m \u001b[0;34m=\u001b[0m \u001b[0mtorch\u001b[0m\u001b[0;34m.\u001b[0m\u001b[0mautograd\u001b[0m\u001b[0;34m.\u001b[0m\u001b[0mgrad\u001b[0m\u001b[0;34m(\u001b[0m\u001b[0menergy\u001b[0m\u001b[0;34m.\u001b[0m\u001b[0msum\u001b[0m\u001b[0;34m(\u001b[0m\u001b[0;34m)\u001b[0m\u001b[0;34m,\u001b[0m \u001b[0mcoordinates\u001b[0m\u001b[0;34m)\u001b[0m\u001b[0;34m[\u001b[0m\u001b[0;36m0\u001b[0m\u001b[0;34m]\u001b[0m\u001b[0;34m\u001b[0m\u001b[0;34m\u001b[0m\u001b[0m\n\u001b[0m\u001b[1;32m     18\u001b[0m         \u001b[0mforce\u001b[0m \u001b[0;34m=\u001b[0m \u001b[0;34m-\u001b[0m\u001b[0mderivative\u001b[0m\u001b[0;34m\u001b[0m\u001b[0;34m\u001b[0m\u001b[0m\n\u001b[1;32m     19\u001b[0m         \u001b[0mFs\u001b[0m\u001b[0;34m.\u001b[0m\u001b[0mappend\u001b[0m\u001b[0;34m(\u001b[0m\u001b[0mat\u001b[0m\u001b[0;34m.\u001b[0m\u001b[0mget_forces\u001b[0m\u001b[0;34m(\u001b[0m\u001b[0;34m)\u001b[0m\u001b[0;34m)\u001b[0m\u001b[0;34m\u001b[0m\u001b[0;34m\u001b[0m\u001b[0m\n",
      "\u001b[0;32m~/miniconda3/lib/python3.8/site-packages/torch/autograd/__init__.py\u001b[0m in \u001b[0;36mgrad\u001b[0;34m(outputs, inputs, grad_outputs, retain_graph, create_graph, only_inputs, allow_unused)\u001b[0m\n\u001b[1;32m    200\u001b[0m         \u001b[0mretain_graph\u001b[0m \u001b[0;34m=\u001b[0m \u001b[0mcreate_graph\u001b[0m\u001b[0;34m\u001b[0m\u001b[0;34m\u001b[0m\u001b[0m\n\u001b[1;32m    201\u001b[0m \u001b[0;34m\u001b[0m\u001b[0m\n\u001b[0;32m--> 202\u001b[0;31m     return Variable._execution_engine.run_backward(\n\u001b[0m\u001b[1;32m    203\u001b[0m         \u001b[0moutputs\u001b[0m\u001b[0;34m,\u001b[0m \u001b[0mgrad_outputs_\u001b[0m\u001b[0;34m,\u001b[0m \u001b[0mretain_graph\u001b[0m\u001b[0;34m,\u001b[0m \u001b[0mcreate_graph\u001b[0m\u001b[0;34m,\u001b[0m\u001b[0;34m\u001b[0m\u001b[0;34m\u001b[0m\u001b[0m\n\u001b[1;32m    204\u001b[0m         inputs, allow_unused)\n",
      "\u001b[0;31mRuntimeError\u001b[0m: Trying to backward through the graph a second time, but the saved intermediate results have already been freed. Specify retain_graph=True when calling backward the first time."
     ]
    }
   ]
  },
  {
   "cell_type": "code",
   "execution_count": 8,
   "metadata": {},
   "outputs": [],
   "source": [
    "at = al[100]"
   ]
  },
  {
   "cell_type": "code",
   "execution_count": 22,
   "metadata": {},
   "outputs": [
    {
     "output_type": "stream",
     "name": "stdout",
     "text": [
      "/Users/Cas/miniconda3/lib/python3.8/site-packages/torchani-2.3.dev60+ga85e330-py3.8.egg/torchani/resources/\n",
      "/Users/Cas/miniconda3/lib/python3.8/site-packages/torchani-2.3.dev60+ga85e330-py3.8.egg/torchani/resources/\n",
      "/Users/Cas/miniconda3/lib/python3.8/site-packages/torchani-2.3.dev60+ga85e330-py3.8.egg/torchani/resources/\n",
      "/Users/Cas/miniconda3/lib/python3.8/site-packages/torchani-2.3.dev60+ga85e330-py3.8.egg/torchani/resources/\n",
      "/Users/Cas/miniconda3/lib/python3.8/site-packages/torchani-2.3.dev60+ga85e330-py3.8.egg/torchani/resources/\n",
      "/Users/Cas/miniconda3/lib/python3.8/site-packages/torchani-2.3.dev60+ga85e330-py3.8.egg/torchani/resources/\n",
      "/Users/Cas/miniconda3/lib/python3.8/site-packages/torchani-2.3.dev60+ga85e330-py3.8.egg/torchani/resources/\n",
      "/Users/Cas/miniconda3/lib/python3.8/site-packages/torchani-2.3.dev60+ga85e330-py3.8.egg/torchani/resources/\n"
     ]
    }
   ],
   "source": [
    "species = torch.tensor([at.get_atomic_numbers()], dtype=torch.long)\n",
    "coordinates = torch.tensor([at.get_positions()], requires_grad=True, dtype=torch.float32)\n",
    "\n",
    "Fs = []\n",
    "\n",
    "for i in range(8):\n",
    "    model = torchani.models.ANI2x(periodic_table_index=True)[i]\n",
    "    energy = model((species, coordinates)).energies\n",
    "\n",
    "    derivative = torch.autograd.grad(energy.sum(), coordinates)[0]\n",
    "    force = -derivative\n",
    "    Fs.append(force)\n",
    "#_, atomic_energies = model.atomic_energies((species, coordinates))"
   ]
  },
  {
   "cell_type": "code",
   "execution_count": 23,
   "metadata": {},
   "outputs": [
    {
     "output_type": "execute_result",
     "data": {
      "text/plain": [
       "[tensor([[[ 0.0744, -0.0050,  0.0048],\n",
       "          [-0.1009,  0.0038,  0.0315],\n",
       "          [ 0.0841, -0.0899, -0.0546],\n",
       "          [ 0.0294,  0.1617, -0.0364],\n",
       "          [ 0.0353, -0.1241,  0.0376],\n",
       "          [-0.0835, -0.0377,  0.0721],\n",
       "          [-0.0466,  0.0074, -0.0262],\n",
       "          [ 0.0660, -0.0370,  0.0539],\n",
       "          [ 0.0229,  0.0313, -0.0036],\n",
       "          [ 0.0260, -0.0253,  0.0304],\n",
       "          [ 0.0411,  0.0163, -0.0350],\n",
       "          [-0.1299,  0.0152,  0.0287],\n",
       "          [ 0.0651, -0.1408, -0.0737],\n",
       "          [-0.0103, -0.0099, -0.0009],\n",
       "          [-0.0060,  0.0092, -0.0064],\n",
       "          [ 0.0093,  0.0165, -0.0208],\n",
       "          [-0.0115,  0.0042,  0.0554],\n",
       "          [-0.0431,  0.0271,  0.0208],\n",
       "          [-0.0082,  0.0146, -0.0106],\n",
       "          [-0.0373, -0.0219, -0.0085],\n",
       "          [ 0.0565,  0.0883, -0.0539],\n",
       "          [ 0.0033, -0.0065,  0.0203],\n",
       "          [-0.0228, -0.0258,  0.0009],\n",
       "          [ 0.0003,  0.0448, -0.0380],\n",
       "          [-0.0070, -0.0355,  0.0014],\n",
       "          [-0.0381, -0.0032, -0.0219],\n",
       "          [ 0.0239,  0.0245, -0.0276],\n",
       "          [-0.0303,  0.0248,  0.0056],\n",
       "          [ 0.0544,  0.0015, -0.0401],\n",
       "          [ 0.0138,  0.0134,  0.0373],\n",
       "          [-0.0304,  0.0583,  0.0574]]]),\n",
       " tensor([[[ 0.0736, -0.0020,  0.0055],\n",
       "          [-0.0931, -0.0005,  0.0275],\n",
       "          [ 0.0812, -0.0871, -0.0578],\n",
       "          [ 0.0340,  0.1599, -0.0334],\n",
       "          [ 0.0294, -0.1241,  0.0355],\n",
       "          [-0.0788, -0.0389,  0.0717],\n",
       "          [-0.0445,  0.0087, -0.0279],\n",
       "          [ 0.0625, -0.0352,  0.0581],\n",
       "          [ 0.0248,  0.0294, -0.0067],\n",
       "          [ 0.0280, -0.0249,  0.0312],\n",
       "          [ 0.0380,  0.0191, -0.0377],\n",
       "          [-0.1308,  0.0145,  0.0297],\n",
       "          [ 0.0663, -0.1415, -0.0763],\n",
       "          [-0.0138, -0.0092,  0.0004],\n",
       "          [-0.0072,  0.0094, -0.0061],\n",
       "          [ 0.0080,  0.0180, -0.0193],\n",
       "          [-0.0106,  0.0025,  0.0561],\n",
       "          [-0.0449,  0.0270,  0.0211],\n",
       "          [-0.0095,  0.0150, -0.0091],\n",
       "          [-0.0374, -0.0203, -0.0080],\n",
       "          [ 0.0570,  0.0871, -0.0531],\n",
       "          [ 0.0040, -0.0071,  0.0196],\n",
       "          [-0.0222, -0.0253,  0.0009],\n",
       "          [ 0.0013,  0.0452, -0.0399],\n",
       "          [-0.0086, -0.0365,  0.0007],\n",
       "          [-0.0396, -0.0034, -0.0214],\n",
       "          [ 0.0243,  0.0228, -0.0255],\n",
       "          [-0.0293,  0.0257,  0.0079],\n",
       "          [ 0.0552,  0.0031, -0.0418],\n",
       "          [ 0.0148,  0.0141,  0.0386],\n",
       "          [-0.0320,  0.0545,  0.0594]]]),\n",
       " tensor([[[ 0.0743,  0.0022,  0.0044],\n",
       "          [-0.0981,  0.0008,  0.0295],\n",
       "          [ 0.0858, -0.0891, -0.0561],\n",
       "          [ 0.0301,  0.1563, -0.0344],\n",
       "          [ 0.0346, -0.1246,  0.0334],\n",
       "          [-0.0823, -0.0403,  0.0747],\n",
       "          [-0.0468,  0.0054, -0.0289],\n",
       "          [ 0.0620, -0.0388,  0.0540],\n",
       "          [ 0.0211,  0.0330, -0.0047],\n",
       "          [ 0.0242, -0.0256,  0.0340],\n",
       "          [ 0.0386,  0.0202, -0.0356],\n",
       "          [-0.1295,  0.0136,  0.0279],\n",
       "          [ 0.0646, -0.1399, -0.0708],\n",
       "          [-0.0104, -0.0067,  0.0008],\n",
       "          [-0.0059,  0.0078, -0.0055],\n",
       "          [ 0.0092,  0.0160, -0.0206],\n",
       "          [-0.0110,  0.0037,  0.0552],\n",
       "          [-0.0437,  0.0278,  0.0214],\n",
       "          [-0.0115,  0.0159, -0.0118],\n",
       "          [-0.0372, -0.0185, -0.0061],\n",
       "          [ 0.0574,  0.0870, -0.0539],\n",
       "          [ 0.0056, -0.0061,  0.0201],\n",
       "          [-0.0219, -0.0230,  0.0024],\n",
       "          [ 0.0018,  0.0455, -0.0365],\n",
       "          [-0.0072, -0.0366,  0.0004],\n",
       "          [-0.0370, -0.0045, -0.0229],\n",
       "          [ 0.0256,  0.0248, -0.0263],\n",
       "          [-0.0287,  0.0245,  0.0064],\n",
       "          [ 0.0541,  0.0037, -0.0445],\n",
       "          [ 0.0133,  0.0135,  0.0386],\n",
       "          [-0.0310,  0.0523,  0.0557]]]),\n",
       " tensor([[[ 0.0689, -0.0016,  0.0027],\n",
       "          [-0.0977, -0.0025,  0.0299],\n",
       "          [ 0.0881, -0.0844, -0.0564],\n",
       "          [ 0.0316,  0.1595, -0.0317],\n",
       "          [ 0.0285, -0.1248,  0.0330],\n",
       "          [-0.0803, -0.0418,  0.0720],\n",
       "          [-0.0483,  0.0087, -0.0290],\n",
       "          [ 0.0632, -0.0342,  0.0571],\n",
       "          [ 0.0236,  0.0321, -0.0045],\n",
       "          [ 0.0267, -0.0266,  0.0335],\n",
       "          [ 0.0384,  0.0155, -0.0372],\n",
       "          [-0.1340,  0.0131,  0.0221],\n",
       "          [ 0.0652, -0.1411, -0.0713],\n",
       "          [-0.0095, -0.0066,  0.0019],\n",
       "          [-0.0042,  0.0084, -0.0067],\n",
       "          [ 0.0096,  0.0169, -0.0213],\n",
       "          [-0.0108,  0.0037,  0.0554],\n",
       "          [-0.0442,  0.0259,  0.0218],\n",
       "          [-0.0091,  0.0163, -0.0112],\n",
       "          [-0.0363, -0.0212, -0.0075],\n",
       "          [ 0.0569,  0.0872, -0.0538],\n",
       "          [ 0.0050, -0.0071,  0.0211],\n",
       "          [-0.0212, -0.0244,  0.0020],\n",
       "          [ 0.0013,  0.0441, -0.0382],\n",
       "          [-0.0076, -0.0369,  0.0007],\n",
       "          [-0.0393, -0.0027, -0.0226],\n",
       "          [ 0.0254,  0.0242, -0.0259],\n",
       "          [-0.0281,  0.0262,  0.0080],\n",
       "          [ 0.0555,  0.0022, -0.0401],\n",
       "          [ 0.0128,  0.0146,  0.0386],\n",
       "          [-0.0301,  0.0575,  0.0577]]]),\n",
       " tensor([[[ 0.0653, -0.0048,  0.0083],\n",
       "          [-0.0951,  0.0009,  0.0275],\n",
       "          [ 0.0843, -0.0877, -0.0579],\n",
       "          [ 0.0275,  0.1556, -0.0334],\n",
       "          [ 0.0344, -0.1220,  0.0348],\n",
       "          [-0.0822, -0.0412,  0.0703],\n",
       "          [-0.0438,  0.0102, -0.0259],\n",
       "          [ 0.0665, -0.0351,  0.0568],\n",
       "          [ 0.0210,  0.0314, -0.0056],\n",
       "          [ 0.0258, -0.0276,  0.0311],\n",
       "          [ 0.0366,  0.0159, -0.0369],\n",
       "          [-0.1328,  0.0157,  0.0283],\n",
       "          [ 0.0647, -0.1436, -0.0727],\n",
       "          [-0.0076, -0.0039, -0.0003],\n",
       "          [-0.0049,  0.0078, -0.0069],\n",
       "          [ 0.0103,  0.0170, -0.0206],\n",
       "          [-0.0114,  0.0033,  0.0562],\n",
       "          [-0.0449,  0.0275,  0.0223],\n",
       "          [-0.0092,  0.0137, -0.0106],\n",
       "          [-0.0376, -0.0192, -0.0059],\n",
       "          [ 0.0574,  0.0869, -0.0540],\n",
       "          [ 0.0035, -0.0064,  0.0206],\n",
       "          [-0.0210, -0.0238,  0.0014],\n",
       "          [-0.0003,  0.0455, -0.0391],\n",
       "          [-0.0080, -0.0352,  0.0002],\n",
       "          [-0.0372, -0.0050, -0.0213],\n",
       "          [ 0.0265,  0.0252, -0.0249],\n",
       "          [-0.0284,  0.0256,  0.0057],\n",
       "          [ 0.0569,  0.0034, -0.0410],\n",
       "          [ 0.0136,  0.0133,  0.0363],\n",
       "          [-0.0301,  0.0568,  0.0573]]]),\n",
       " tensor([[[ 0.0745, -0.0052,  0.0035],\n",
       "          [-0.0996,  0.0040,  0.0286],\n",
       "          [ 0.0866, -0.0883, -0.0554],\n",
       "          [ 0.0285,  0.1567, -0.0346],\n",
       "          [ 0.0334, -0.1255,  0.0323],\n",
       "          [-0.0792, -0.0375,  0.0743],\n",
       "          [-0.0502,  0.0065, -0.0298],\n",
       "          [ 0.0676, -0.0350,  0.0587],\n",
       "          [ 0.0251,  0.0320, -0.0068],\n",
       "          [ 0.0228, -0.0271,  0.0324],\n",
       "          [ 0.0402,  0.0166, -0.0371],\n",
       "          [-0.1313,  0.0152,  0.0251],\n",
       "          [ 0.0648, -0.1387, -0.0753],\n",
       "          [-0.0096, -0.0059,  0.0021],\n",
       "          [-0.0050,  0.0085, -0.0063],\n",
       "          [ 0.0100,  0.0174, -0.0215],\n",
       "          [-0.0119,  0.0041,  0.0570],\n",
       "          [-0.0434,  0.0280,  0.0218],\n",
       "          [-0.0090,  0.0156, -0.0107],\n",
       "          [-0.0374, -0.0214, -0.0071],\n",
       "          [ 0.0560,  0.0856, -0.0533],\n",
       "          [ 0.0036, -0.0064,  0.0188],\n",
       "          [-0.0226, -0.0243,  0.0027],\n",
       "          [ 0.0003,  0.0467, -0.0398],\n",
       "          [-0.0074, -0.0364,  0.0014],\n",
       "          [-0.0399, -0.0040, -0.0226],\n",
       "          [ 0.0254,  0.0231, -0.0248],\n",
       "          [-0.0301,  0.0264,  0.0080],\n",
       "          [ 0.0543,  0.0011, -0.0402],\n",
       "          [ 0.0136,  0.0132,  0.0381],\n",
       "          [-0.0301,  0.0550,  0.0604]]]),\n",
       " tensor([[[ 0.0694, -0.0023,  0.0058],\n",
       "          [-0.0991,  0.0008,  0.0287],\n",
       "          [ 0.0875, -0.0898, -0.0550],\n",
       "          [ 0.0298,  0.1608, -0.0362],\n",
       "          [ 0.0342, -0.1259,  0.0371],\n",
       "          [-0.0828, -0.0399,  0.0711],\n",
       "          [-0.0450,  0.0089, -0.0287],\n",
       "          [ 0.0646, -0.0346,  0.0547],\n",
       "          [ 0.0250,  0.0307, -0.0055],\n",
       "          [ 0.0250, -0.0234,  0.0341],\n",
       "          [ 0.0383,  0.0167, -0.0360],\n",
       "          [-0.1305,  0.0146,  0.0191],\n",
       "          [ 0.0635, -0.1403, -0.0726],\n",
       "          [-0.0103, -0.0076,  0.0011],\n",
       "          [-0.0045,  0.0077, -0.0057],\n",
       "          [ 0.0100,  0.0167, -0.0216],\n",
       "          [-0.0115,  0.0044,  0.0560],\n",
       "          [-0.0453,  0.0277,  0.0213],\n",
       "          [-0.0096,  0.0142, -0.0096],\n",
       "          [-0.0361, -0.0188, -0.0066],\n",
       "          [ 0.0574,  0.0872, -0.0533],\n",
       "          [ 0.0031, -0.0064,  0.0184],\n",
       "          [-0.0223, -0.0244,  0.0022],\n",
       "          [ 0.0015,  0.0456, -0.0379],\n",
       "          [-0.0087, -0.0366,  0.0020],\n",
       "          [-0.0378, -0.0037, -0.0228],\n",
       "          [ 0.0253,  0.0236, -0.0245],\n",
       "          [-0.0297,  0.0261,  0.0087],\n",
       "          [ 0.0555,  0.0026, -0.0418],\n",
       "          [ 0.0133,  0.0136,  0.0393],\n",
       "          [-0.0302,  0.0518,  0.0585]]]),\n",
       " tensor([[[ 7.6319e-02, -3.6521e-03,  2.0396e-03],\n",
       "          [-1.0047e-01,  1.2956e-03,  2.8231e-02],\n",
       "          [ 9.0583e-02, -8.6618e-02, -5.5457e-02],\n",
       "          [ 2.9337e-02,  1.5405e-01, -3.2760e-02],\n",
       "          [ 3.1320e-02, -1.2530e-01,  3.1121e-02],\n",
       "          [-7.8896e-02, -3.9485e-02,  6.9656e-02],\n",
       "          [-5.0674e-02,  6.1328e-03, -2.5457e-02],\n",
       "          [ 6.4441e-02, -3.2934e-02,  5.9201e-02],\n",
       "          [ 2.1960e-02,  3.1802e-02, -8.1731e-03],\n",
       "          [ 2.2329e-02, -2.6970e-02,  3.4955e-02],\n",
       "          [ 4.1966e-02,  1.9677e-02, -3.3524e-02],\n",
       "          [-1.3005e-01,  8.9215e-03,  2.8355e-02],\n",
       "          [ 6.2914e-02, -1.3622e-01, -7.5124e-02],\n",
       "          [-9.8143e-03, -1.1334e-03,  1.1842e-03],\n",
       "          [-6.4824e-03,  9.3675e-03, -5.3850e-03],\n",
       "          [ 9.5586e-03,  1.7873e-02, -2.0863e-02],\n",
       "          [-1.0632e-02,  3.1551e-03,  5.4958e-02],\n",
       "          [-4.4338e-02,  2.6359e-02,  2.2102e-02],\n",
       "          [-7.7887e-03,  1.3756e-02, -9.1340e-03],\n",
       "          [-3.6495e-02, -1.9935e-02, -6.3323e-03],\n",
       "          [ 5.6347e-02,  8.6673e-02, -5.4749e-02],\n",
       "          [ 2.3888e-03, -7.0139e-03,  1.9838e-02],\n",
       "          [-2.1852e-02, -2.4928e-02,  1.5363e-04],\n",
       "          [ 6.9310e-04,  4.4577e-02, -3.8694e-02],\n",
       "          [-8.4800e-03, -3.6399e-02,  9.7996e-04],\n",
       "          [-3.8267e-02, -4.1495e-03, -2.2227e-02],\n",
       "          [ 2.5883e-02,  2.6079e-02, -2.6465e-02],\n",
       "          [-2.9078e-02,  2.4751e-02,  7.6768e-03],\n",
       "          [ 5.4491e-02,  1.9919e-03, -4.0679e-02],\n",
       "          [ 1.3683e-02,  1.3170e-02,  3.7305e-02],\n",
       "          [-3.0893e-02,  5.5103e-02,  5.7269e-02]]])]"
      ]
     },
     "metadata": {},
     "execution_count": 23
    }
   ],
   "source": [
    "Fs"
   ]
  },
  {
   "cell_type": "code",
   "execution_count": 83,
   "metadata": {},
   "outputs": [],
   "source": [
    "coordinates = torch.tensor([at.get_positions()], requires_grad=True, dtype=torch.float32)"
   ]
  },
  {
   "cell_type": "code",
   "execution_count": 84,
   "metadata": {},
   "outputs": [],
   "source": [
    "model = torchani.models.ANI2x(periodic_table_index=True)\n",
    "\n",
    "energy = model((species, coordinates)).energies"
   ]
  },
  {
   "cell_type": "code",
   "execution_count": 85,
   "metadata": {},
   "outputs": [
    {
     "output_type": "execute_result",
     "data": {
      "text/plain": [
       "tensor([-691.5021], dtype=torch.float64, grad_fn=<AddBackward0>)"
      ]
     },
     "metadata": {},
     "execution_count": 85
    }
   ],
   "source": [
    "energy"
   ]
  },
  {
   "cell_type": "code",
   "execution_count": 90,
   "metadata": {},
   "outputs": [
    {
     "output_type": "stream",
     "name": "stdout",
     "text": [
      "Energy: -40.459790705366636\nForce: tensor([[ 0.0478, -0.1304, -0.0551],\n        [-0.1353,  0.1581, -0.0776],\n        [ 0.0804, -0.0388,  0.0387],\n        [ 0.0254,  0.0076,  0.0433],\n        [-0.0183,  0.0035,  0.0508]])\n"
     ]
    },
    {
     "output_type": "error",
     "ename": "ModuleAttributeError",
     "evalue": "'BuiltinEnsemble' object has no attribute 'atomic_energies'",
     "traceback": [
      "\u001b[0;31m---------------------------------------------------------------------------\u001b[0m",
      "\u001b[0;31mModuleAttributeError\u001b[0m                      Traceback (most recent call last)",
      "\u001b[0;32m<ipython-input-90-69ace6b35c69>\u001b[0m in \u001b[0;36m<module>\u001b[0;34m\u001b[0m\n\u001b[1;32m     46\u001b[0m \u001b[0;31m# you can also get the atomic energies (WARNING: these have no physical\u001b[0m\u001b[0;34m\u001b[0m\u001b[0;34m\u001b[0m\u001b[0;34m\u001b[0m\u001b[0m\n\u001b[1;32m     47\u001b[0m \u001b[0;31m# meaning) by calling:\u001b[0m\u001b[0;34m\u001b[0m\u001b[0;34m\u001b[0m\u001b[0;34m\u001b[0m\u001b[0m\n\u001b[0;32m---> 48\u001b[0;31m \u001b[0m_\u001b[0m\u001b[0;34m,\u001b[0m \u001b[0matomic_energies\u001b[0m \u001b[0;34m=\u001b[0m \u001b[0mmodel\u001b[0m\u001b[0;34m.\u001b[0m\u001b[0matomic_energies\u001b[0m\u001b[0;34m(\u001b[0m\u001b[0;34m(\u001b[0m\u001b[0mspecies\u001b[0m\u001b[0;34m,\u001b[0m \u001b[0mcoordinates\u001b[0m\u001b[0;34m)\u001b[0m\u001b[0;34m)\u001b[0m\u001b[0;34m\u001b[0m\u001b[0;34m\u001b[0m\u001b[0m\n\u001b[0m",
      "\u001b[0;32m~/miniconda3/lib/python3.8/site-packages/torch/nn/modules/module.py\u001b[0m in \u001b[0;36m__getattr__\u001b[0;34m(self, name)\u001b[0m\n\u001b[1;32m    776\u001b[0m             \u001b[0;32mif\u001b[0m \u001b[0mname\u001b[0m \u001b[0;32min\u001b[0m \u001b[0mmodules\u001b[0m\u001b[0;34m:\u001b[0m\u001b[0;34m\u001b[0m\u001b[0;34m\u001b[0m\u001b[0m\n\u001b[1;32m    777\u001b[0m                 \u001b[0;32mreturn\u001b[0m \u001b[0mmodules\u001b[0m\u001b[0;34m[\u001b[0m\u001b[0mname\u001b[0m\u001b[0;34m]\u001b[0m\u001b[0;34m\u001b[0m\u001b[0;34m\u001b[0m\u001b[0m\n\u001b[0;32m--> 778\u001b[0;31m         raise ModuleAttributeError(\"'{}' object has no attribute '{}'\".format(\n\u001b[0m\u001b[1;32m    779\u001b[0m             type(self).__name__, name))\n\u001b[1;32m    780\u001b[0m \u001b[0;34m\u001b[0m\u001b[0m\n",
      "\u001b[0;31mModuleAttributeError\u001b[0m: 'BuiltinEnsemble' object has no attribute 'atomic_energies'"
     ]
    }
   ],
   "source": [
    "device = torch.device('cuda' if torch.cuda.is_available() else 'cpu')\n",
    "\n",
    "###############################################################################\n",
    "# Let's now load the built-in ANI-1ccx models. The builtin ANI-1ccx contains 8\n",
    "# models trained with diffrent initialization. Predicting the energy and force\n",
    "# using the average of the 8 models outperform using a single model, so it is\n",
    "# always recommended to use an ensemble, unless the speed of computation is an\n",
    "# issue in your application.\n",
    "#\n",
    "# The ``periodic_table_index`` arguments tells TorchANI to use element index\n",
    "# in periodic table to index species. If not specified, you need to use\n",
    "# 0, 1, 2, 3, ... to index species\n",
    "model = torchani.models.ANI2x(periodic_table_index=True).to(device)\n",
    "\n",
    "###############################################################################\n",
    "# Now let's define the coordinate and species. If you just want to compute the\n",
    "# energy and force for a single structure like in this example, you need to\n",
    "# make the coordinate tensor has shape ``(1, Na, 3)`` and species has shape\n",
    "# ``(1, Na)``, where ``Na`` is the number of atoms in the molecule, the\n",
    "# preceding ``1`` in the shape is here to support batch processing like in\n",
    "# training. If you have ``N`` different structures to compute, then make it\n",
    "# ``N``.\n",
    "#\n",
    "# .. note:: The coordinates are in Angstrom, and the energies you get are in Hartree\n",
    "coordinates = torch.tensor([[[0.03192167, 0.00638559, 0.01301679],\n",
    "                             [-0.83140486, 0.39370209, -0.26395324],\n",
    "                             [-0.66518241, -0.84461308, 0.20759389],\n",
    "                             [0.45554739, 0.54289633, 0.81170881],\n",
    "                             [0.66091919, -0.16799635, -0.91037834]]],\n",
    "                           requires_grad=True, device=device)\n",
    "# In periodic table, C = 6 and H = 1\n",
    "species = torch.tensor([[6, 1, 1, 1, 1]], device=device)\n",
    "\n",
    "###############################################################################\n",
    "# Now let's compute energy and force:\n",
    "energy = model((species, coordinates)).energies\n",
    "derivative = torch.autograd.grad(energy.sum(), coordinates)[0]\n",
    "force = -derivative\n",
    "\n",
    "###############################################################################\n",
    "# And print to see the result:\n",
    "print('Energy:', energy.item())\n",
    "print('Force:', force.squeeze())\n",
    "\n",
    "###############################################################################\n",
    "# you can also get the atomic energies (WARNING: these have no physical\n",
    "# meaning) by calling:\n",
    "_, atomic_energies = model.atomic_energies((species, coordinates))\n"
   ]
  },
  {
   "cell_type": "code",
   "execution_count": null,
   "metadata": {},
   "outputs": [],
   "source": [
    "atomic_energies"
   ]
  },
  {
   "cell_type": "code",
   "execution_count": 120,
   "metadata": {},
   "outputs": [
    {
     "output_type": "execute_result",
     "data": {
      "text/plain": [
       "tensor([[6, 1, 1, 1, 1]])"
      ]
     },
     "metadata": {},
     "execution_count": 120
    }
   ],
   "source": [
    "species"
   ]
  },
  {
   "cell_type": "code",
   "execution_count": 10,
   "metadata": {},
   "outputs": [],
   "source": [
    "coordinates = torch.tensor([[[0.03192167, 0.00638559, 0.01301679],\n",
    "                             [-0.83140486, 0.39370209, -0.26395324],\n",
    "                             [-0.66518241, -0.84461308, 0.20759389],\n",
    "                             [0.45554739, 0.54289633, 0.81170881],\n",
    "                             [0.66091919, -0.16799635, -0.91037834]]],\n",
    "                           requires_grad=True, device=device)\n",
    "# In periodic table, C = 6 and H = 1\n",
    "species = torch.tensor([[6, 1, 1, 1, 1]], device=device)\n",
    "\n",
    "###############################################################################\n",
    "# Now let's compute energy and force:\n",
    "energy = model((species, coordinates)).energies"
   ]
  },
  {
   "cell_type": "code",
   "execution_count": 11,
   "metadata": {},
   "outputs": [
    {
     "output_type": "execute_result",
     "data": {
      "text/plain": [
       "tensor([-40.4598], dtype=torch.float64, grad_fn=<AddBackward0>)"
      ]
     },
     "metadata": {},
     "execution_count": 11
    }
   ],
   "source": [
    "energy"
   ]
  },
  {
   "cell_type": "code",
   "execution_count": 12,
   "metadata": {},
   "outputs": [
    {
     "output_type": "error",
     "ename": "NameError",
     "evalue": "name 'ani2x' is not defined",
     "traceback": [
      "\u001b[0;31m---------------------------------------------------------------------------\u001b[0m",
      "\u001b[0;31mNameError\u001b[0m                                 Traceback (most recent call last)",
      "\u001b[0;32m<ipython-input-12-ceca926c62ae>\u001b[0m in \u001b[0;36m<module>\u001b[0;34m\u001b[0m\n\u001b[0;32m----> 1\u001b[0;31m \u001b[0mcalc\u001b[0m \u001b[0;34m=\u001b[0m \u001b[0mani2x\u001b[0m\u001b[0;34m[\u001b[0m\u001b[0;36m1\u001b[0m\u001b[0;34m]\u001b[0m\u001b[0;34m.\u001b[0m\u001b[0mase\u001b[0m\u001b[0;34m(\u001b[0m\u001b[0;34m)\u001b[0m\u001b[0;34m\u001b[0m\u001b[0;34m\u001b[0m\u001b[0m\n\u001b[0m\u001b[1;32m      2\u001b[0m \u001b[0mat\u001b[0m\u001b[0;34m.\u001b[0m\u001b[0mset_calculator\u001b[0m\u001b[0;34m(\u001b[0m\u001b[0mcalc\u001b[0m\u001b[0;34m)\u001b[0m\u001b[0;34m\u001b[0m\u001b[0;34m\u001b[0m\u001b[0m\n",
      "\u001b[0;31mNameError\u001b[0m: name 'ani2x' is not defined"
     ]
    }
   ],
   "source": [
    "calc = ani2x[1].ase()\n",
    "at.set_calculator(calc)"
   ]
  },
  {
   "cell_type": "code",
   "execution_count": 14,
   "metadata": {},
   "outputs": [
    {
     "output_type": "stream",
     "name": "stdout",
     "text": [
      "Energy: -40.459790705366636\nForce: tensor([[ 0.0478, -0.1304, -0.0551],\n        [-0.1353,  0.1581, -0.0776],\n        [ 0.0804, -0.0388,  0.0387],\n        [ 0.0254,  0.0076,  0.0433],\n        [-0.0183,  0.0035,  0.0508]])\n"
     ]
    },
    {
     "output_type": "error",
     "ename": "ModuleAttributeError",
     "evalue": "'BuiltinEnsemble' object has no attribute 'atomic_energies'",
     "traceback": [
      "\u001b[0;31m---------------------------------------------------------------------------\u001b[0m",
      "\u001b[0;31mModuleAttributeError\u001b[0m                      Traceback (most recent call last)",
      "\u001b[0;32m<ipython-input-14-2249a8a929a6>\u001b[0m in \u001b[0;36m<module>\u001b[0;34m\u001b[0m\n\u001b[1;32m     47\u001b[0m \u001b[0;31m# you can also get the atomic energies (WARNING: these have no physical\u001b[0m\u001b[0;34m\u001b[0m\u001b[0;34m\u001b[0m\u001b[0;34m\u001b[0m\u001b[0m\n\u001b[1;32m     48\u001b[0m \u001b[0;31m# meaning) by calling:\u001b[0m\u001b[0;34m\u001b[0m\u001b[0;34m\u001b[0m\u001b[0;34m\u001b[0m\u001b[0m\n\u001b[0;32m---> 49\u001b[0;31m \u001b[0m_\u001b[0m\u001b[0;34m,\u001b[0m \u001b[0matomic_energies\u001b[0m \u001b[0;34m=\u001b[0m \u001b[0mmodel\u001b[0m\u001b[0;34m.\u001b[0m\u001b[0matomic_energies\u001b[0m\u001b[0;34m(\u001b[0m\u001b[0;34m(\u001b[0m\u001b[0mspecies\u001b[0m\u001b[0;34m,\u001b[0m \u001b[0mcoordinates\u001b[0m\u001b[0;34m)\u001b[0m\u001b[0;34m)\u001b[0m\u001b[0;34m\u001b[0m\u001b[0;34m\u001b[0m\u001b[0m\n\u001b[0m",
      "\u001b[0;32m~/miniconda3/lib/python3.8/site-packages/torch/nn/modules/module.py\u001b[0m in \u001b[0;36m__getattr__\u001b[0;34m(self, name)\u001b[0m\n\u001b[1;32m    776\u001b[0m             \u001b[0;32mif\u001b[0m \u001b[0mname\u001b[0m \u001b[0;32min\u001b[0m \u001b[0mmodules\u001b[0m\u001b[0;34m:\u001b[0m\u001b[0;34m\u001b[0m\u001b[0;34m\u001b[0m\u001b[0m\n\u001b[1;32m    777\u001b[0m                 \u001b[0;32mreturn\u001b[0m \u001b[0mmodules\u001b[0m\u001b[0;34m[\u001b[0m\u001b[0mname\u001b[0m\u001b[0;34m]\u001b[0m\u001b[0;34m\u001b[0m\u001b[0;34m\u001b[0m\u001b[0m\n\u001b[0;32m--> 778\u001b[0;31m         raise ModuleAttributeError(\"'{}' object has no attribute '{}'\".format(\n\u001b[0m\u001b[1;32m    779\u001b[0m             type(self).__name__, name))\n\u001b[1;32m    780\u001b[0m \u001b[0;34m\u001b[0m\u001b[0m\n",
      "\u001b[0;31mModuleAttributeError\u001b[0m: 'BuiltinEnsemble' object has no attribute 'atomic_energies'"
     ]
    }
   ],
   "source": [
    "# Let's now manually specify the device we want TorchANI to run:\n",
    "device = torch.device('cuda' if torch.cuda.is_available() else 'cpu')\n",
    "\n",
    "###############################################################################\n",
    "# Let's now load the built-in ANI-1ccx models. The builtin ANI-1ccx contains 8\n",
    "# models trained with diffrent initialization. Predicting the energy and force\n",
    "# using the average of the 8 models outperform using a single model, so it is\n",
    "# always recommended to use an ensemble, unless the speed of computation is an\n",
    "# issue in your application.\n",
    "#\n",
    "# The ``periodic_table_index`` arguments tells TorchANI to use element index\n",
    "# in periodic table to index species. If not specified, you need to use\n",
    "# 0, 1, 2, 3, ... to index species\n",
    "model = torchani.models.ANI2x(periodic_table_index=True).to(device)\n",
    "\n",
    "###############################################################################\n",
    "# Now let's define the coordinate and species. If you just want to compute the\n",
    "# energy and force for a single structure like in this example, you need to\n",
    "# make the coordinate tensor has shape ``(1, Na, 3)`` and species has shape\n",
    "# ``(1, Na)``, where ``Na`` is the number of atoms in the molecule, the\n",
    "# preceding ``1`` in the shape is here to support batch processing like in\n",
    "# training. If you have ``N`` different structures to compute, then make it\n",
    "# ``N``.\n",
    "#\n",
    "# .. note:: The coordinates are in Angstrom, and the energies you get are in Hartree\n",
    "coordinates = torch.tensor([[[0.03192167, 0.00638559, 0.01301679],\n",
    "                             [-0.83140486, 0.39370209, -0.26395324],\n",
    "                             [-0.66518241, -0.84461308, 0.20759389],\n",
    "                             [0.45554739, 0.54289633, 0.81170881],\n",
    "                             [0.66091919, -0.16799635, -0.91037834]]],\n",
    "                           requires_grad=True, device=device)\n",
    "# In periodic table, C = 6 and H = 1\n",
    "species = torch.tensor([[6, 1, 1, 1, 1]], device=device)\n",
    "\n",
    "###############################################################################\n",
    "# Now let's compute energy and force:\n",
    "energy = model((species, coordinates)).energies\n",
    "derivative = torch.autograd.grad(energy.sum(), coordinates)[0]\n",
    "force = -derivative\n",
    "\n",
    "###############################################################################\n",
    "# And print to see the result:\n",
    "print('Energy:', energy.item())\n",
    "print('Force:', force.squeeze())\n",
    "\n",
    "###############################################################################\n",
    "# you can also get the atomic energies (WARNING: these have no physical\n",
    "# meaning) by calling:\n",
    "_, atomic_energies = model.atomic_energies((species, coordinates))"
   ]
  },
  {
   "cell_type": "code",
   "execution_count": 15,
   "metadata": {},
   "outputs": [
    {
     "output_type": "error",
     "ename": "TypeError",
     "evalue": "__init__() missing 8 required positional arguments: 'species_converter', 'aev_computer', 'neural_networks', 'energy_shifter', 'species_to_tensor', 'consts', 'sae_dict', and 'periodic_table_index'",
     "traceback": [
      "\u001b[0;31m---------------------------------------------------------------------------\u001b[0m",
      "\u001b[0;31mTypeError\u001b[0m                                 Traceback (most recent call last)",
      "\u001b[0;32m<ipython-input-15-d561248760ef>\u001b[0m in \u001b[0;36m<module>\u001b[0;34m\u001b[0m\n\u001b[0;32m----> 1\u001b[0;31m \u001b[0mtorchani\u001b[0m\u001b[0;34m.\u001b[0m\u001b[0mmodels\u001b[0m\u001b[0;34m.\u001b[0m\u001b[0mBuiltinEnsemble\u001b[0m\u001b[0;34m(\u001b[0m\u001b[0;34m)\u001b[0m\u001b[0;34m\u001b[0m\u001b[0;34m\u001b[0m\u001b[0m\n\u001b[0m\u001b[1;32m      2\u001b[0m \u001b[0;34m\u001b[0m\u001b[0m\n\u001b[1;32m      3\u001b[0m \u001b[0m_\u001b[0m\u001b[0;34m,\u001b[0m \u001b[0matomic_energies\u001b[0m \u001b[0;34m=\u001b[0m \u001b[0mmodel\u001b[0m\u001b[0;34m.\u001b[0m\u001b[0matomic_energies\u001b[0m\u001b[0;34m(\u001b[0m\u001b[0;34m(\u001b[0m\u001b[0mspecies\u001b[0m\u001b[0;34m,\u001b[0m \u001b[0mcoordinates\u001b[0m\u001b[0;34m)\u001b[0m\u001b[0;34m)\u001b[0m\u001b[0;34m\u001b[0m\u001b[0;34m\u001b[0m\u001b[0m\n",
      "\u001b[0;31mTypeError\u001b[0m: __init__() missing 8 required positional arguments: 'species_converter', 'aev_computer', 'neural_networks', 'energy_shifter', 'species_to_tensor', 'consts', 'sae_dict', and 'periodic_table_index'"
     ]
    }
   ],
   "source": [
    "torchani.models.BuiltinEnsemble()\n",
    "\n",
    "_, atomic_energies = model.atomic_energies((species, coordinates))"
   ]
  },
  {
   "cell_type": "code",
   "execution_count": 25,
   "metadata": {},
   "outputs": [
    {
     "output_type": "execute_result",
     "data": {
      "text/plain": [
       "tensor([[-1036.1987,   -15.8001,   -16.0767,   -16.4552,   -16.4363]],\n",
       "       grad_fn=<MulBackward0>)"
      ]
     },
     "metadata": {},
     "execution_count": 25
    }
   ],
   "source": [
    "atomic_energies"
   ]
  },
  {
   "cell_type": "code",
   "execution_count": 30,
   "metadata": {},
   "outputs": [
    {
     "output_type": "error",
     "ename": "AttributeError",
     "evalue": "'Atoms' object has no attribute 'calculator'",
     "traceback": [
      "\u001b[0;31m---------------------------------------------------------------------------\u001b[0m",
      "\u001b[0;31mAttributeError\u001b[0m                            Traceback (most recent call last)",
      "\u001b[0;32m<ipython-input-30-2f97885738c1>\u001b[0m in \u001b[0;36m<module>\u001b[0;34m\u001b[0m\n\u001b[0;32m----> 1\u001b[0;31m \u001b[0matoms\u001b[0m\u001b[0;34m.\u001b[0m\u001b[0mcalculator\u001b[0m\u001b[0;34m(\u001b[0m\u001b[0mcalc\u001b[0m\u001b[0;34m)\u001b[0m\u001b[0;34m\u001b[0m\u001b[0;34m\u001b[0m\u001b[0m\n\u001b[0m",
      "\u001b[0;31mAttributeError\u001b[0m: 'Atoms' object has no attribute 'calculator'"
     ]
    }
   ],
   "source": [
    "atoms.calculator(calc)"
   ]
  },
  {
   "cell_type": "code",
   "execution_count": 29,
   "metadata": {},
   "outputs": [
    {
     "output_type": "stream",
     "name": "stdout",
     "text": [
      "-18816.786657402994\n"
     ]
    }
   ],
   "source": [
    "print(atoms.get_potential_energy())"
   ]
  },
  {
   "cell_type": "code",
   "execution_count": 31,
   "metadata": {},
   "outputs": [
    {
     "output_type": "execute_result",
     "data": {
      "text/plain": [
       "tensor([[-1036.1987,   -15.8001,   -16.0767,   -16.4552,   -16.4363]],\n",
       "       grad_fn=<MulBackward0>)"
      ]
     },
     "metadata": {},
     "execution_count": 31
    }
   ],
   "source": [
    "atomic_energies"
   ]
  },
  {
   "cell_type": "code",
   "execution_count": 32,
   "metadata": {},
   "outputs": [],
   "source": [
    "import numpy as np"
   ]
  },
  {
   "cell_type": "code",
   "execution_count": 35,
   "metadata": {},
   "outputs": [
    {
     "output_type": "execute_result",
     "data": {
      "text/plain": [
       "-1100.9669"
      ]
     },
     "metadata": {},
     "execution_count": 35
    }
   ],
   "source": [
    "np.sum(atomic_energies.detach().numpy())"
   ]
  },
  {
   "cell_type": "code",
   "execution_count": 36,
   "metadata": {},
   "outputs": [
    {
     "output_type": "execute_result",
     "data": {
      "text/plain": [
       "31"
      ]
     },
     "metadata": {},
     "execution_count": 36
    }
   ],
   "source": [
    "len(atoms)"
   ]
  },
  {
   "cell_type": "code",
   "execution_count": 38,
   "metadata": {},
   "outputs": [],
   "source": [
    "_, atomic_energies = model.atomic_energies((species, coordinates), average=False)"
   ]
  },
  {
   "cell_type": "code",
   "execution_count": 39,
   "metadata": {},
   "outputs": [
    {
     "output_type": "execute_result",
     "data": {
      "text/plain": [
       "tensor([[[-38.0841,  -0.5797,  -0.5898,  -0.6034,  -0.6027]],\n",
       "\n",
       "        [[-38.0564,  -0.5861,  -0.5958,  -0.6112,  -0.6099]],\n",
       "\n",
       "        [[-38.0744,  -0.5842,  -0.5930,  -0.6044,  -0.6037]],\n",
       "\n",
       "        [[-38.0934,  -0.5769,  -0.5877,  -0.6012,  -0.6010]],\n",
       "\n",
       "        [[-38.0904,  -0.5771,  -0.5880,  -0.6023,  -0.6016]],\n",
       "\n",
       "        [[-38.0684,  -0.5833,  -0.5935,  -0.6079,  -0.6070]],\n",
       "\n",
       "        [[-38.0826,  -0.5798,  -0.5901,  -0.6040,  -0.6033]],\n",
       "\n",
       "        [[-38.0870,  -0.5781,  -0.5885,  -0.6033,  -0.6030]]],\n",
       "       grad_fn=<AddBackward0>)"
      ]
     },
     "metadata": {},
     "execution_count": 39
    }
   ],
   "source": [
    "atomic_energies "
   ]
  },
  {
   "cell_type": "code",
   "execution_count": 40,
   "metadata": {},
   "outputs": [
    {
     "output_type": "stream",
     "name": "stdout",
     "text": [
      "Atomic energies of first model, for species 6 1 1 1 1 tensor([[-38.0841,  -0.5797,  -0.5898,  -0.6034,  -0.6027]],\n       grad_fn=<SliceBackward>)\n"
     ]
    }
   ],
   "source": [
    "print('Atomic energies of first model, for species 6 1 1 1 1', atomic_energies[0, :, :])"
   ]
  },
  {
   "cell_type": "code",
   "execution_count": null,
   "metadata": {},
   "outputs": [],
   "source": []
  }
 ]
}